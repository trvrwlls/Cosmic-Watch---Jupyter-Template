{
 "cells": [
  {
   "cell_type": "markdown",
   "metadata": {},
   "source": [
    "# Cosmic Watch Desktop Muon Detector Plotting Notebook\n",
    "\n",
    "\n",
    "The premise of this notebook is to plot data provided to the user from the cosmic ray detectors. These plots will allow a user to better visuallize the data that the cosmic ray detectors provide."
   ]
  },
  {
   "cell_type": "code",
   "execution_count": 8,
   "metadata": {},
   "outputs": [
    {
     "name": "stdout",
     "output_type": "stream",
     "text": [
      "164093\n",
      "160781\n"
     ]
    }
   ],
   "source": [
    "import pandas as pd\n",
    "import numpy as np\n",
    "import matplotlib.pyplot as plt\n",
    "\n",
    "# fileName = \"10 MIN RAD RUN//DETECTOR 5 - 10 MIN RAD RUN.TXT\" # RELATIVE PATH OF THE CHOSEN DATA SET \n",
    "fileName = '24 HR RUNS//DETECTOR 2 - 24 HR RUN.TXT'\n",
    "\n",
    "# print(\"\"\"How was the txt file aquired?\n",
    "#     1 - SD Card\n",
    "#     2 - import_data.py - Record data on the computer\n",
    "#     3 - import_data.py - Copy Datq files from SD card to your computer\n",
    "#     4 - import_data.py - Connect to server: www.cosmicwatch.lns.mit.edu\"\"\")\n",
    "\n",
    "\n",
    "# userInput = int(input(\"Selected output: \")) # Gather input from user\n",
    "\n",
    "\n",
    "# if userInput == 1: # The main method of moving data from a detector to a computer\n",
    "#     filePD = pd.read_csv(fileName, skiprows = 6, names = ['Entry','ArdTime','ADC', 'SiPM', 'Deadtime', 'Temp'], lineterminator='\\n', sep='\\s+', encoding = 'unicode_escape', engine ='python')\n",
    "\n",
    "# elif userInput == 2: # This input will gather data from the detector directly into a file\n",
    "#     filePD = pd.read_csv(fileName, skiprows = 23, names = ['Comp_date', 'Comp_time', 'Entry','ArdTime','ADC', 'SiPM', 'Deadtime', 'Temp'], lineterminator='\\n', sep='\\s+', encoding = 'unicode_escape', engine ='python')\n",
    "\n",
    "# elif userInput == 3: # This input will gather data from the files already collected on the SD card in the detector\n",
    "#     filePD = pd.read_csv(fileName, skiprows = 19, names = ['Entry','ArdTime','ADC', 'SiPM', 'Deadtime', 'Temp'], lineterminator='\\n', sep='\\s+', encoding = 'unicode_escape', engine ='python')\n",
    "\n",
    "# elif userInput == 4: # This input will gather data from the file saved from the website www.cosmicwatch.lns.mit.edu \n",
    "#     filePD = pd.read_csv(fileName, names = ['Comp_date', 'Comp_time', 'Entry','ArdTime','ADC', 'SiPM', 'Deadtime'], lineterminator='\\n', sep='\\s+', encoding = 'unicode_escape', engine ='python')\n",
    "# else:\n",
    "#     print(\"No proper file format was provided\")\n",
    "#     exit()\n",
    "\n",
    "filePD = pd.read_csv(fileName, skiprows = 6, names = ['Entry','ArdTime','ADC', 'SiPM', 'Deadtime', 'Temp'], lineterminator='\\n', sep='\\s+', encoding = 'unicode_escape', engine ='python')\n",
    "\n",
    "\n",
    "filePD.ArdTime = filePD.ArdTime/1000 # converting the ArdTime column from milliseconds to seconds\n",
    "\n",
    "filePD.Deadtime = filePD.Deadtime/1000 # converting the Deadtime column from milliseconds to seconds\n",
    "\n",
    "\n",
    "print(len(filePD.ADC))\n",
    "filePD = filePD.drop(np.where(np.array(filePD.ADC)>500)[0])\n",
    "print(len(filePD.ADC))\n"
   ]
  },
  {
   "cell_type": "markdown",
   "metadata": {},
   "source": [
    "# SiPM Voltage Histogram"
   ]
  },
  {
   "cell_type": "code",
   "execution_count": null,
   "metadata": {},
   "outputs": [
    {
     "data": {
      "text/plain": [
       "Text(0, 0.5, 'Events')"
      ]
     },
     "execution_count": 21,
     "metadata": {},
     "output_type": "execute_result"
    },
    {
     "data": {
      "image/png": "[encoded data removed]",
      "text/plain": [
       "<Figure size 432x288 with 1 Axes>"
      ]
     },
     "metadata": {
      "needs_background": "light"
     },
     "output_type": "display_data"
    }
   ],
   "source": [
    "''' ADJUSTABLE VARIABLES '''\n",
    "\n",
    "x_min = 12.5 # Minimum range of the histogram \n",
    "\n",
    "x_max = 200 # Maximum range of the histogram \n",
    "\n",
    "bin = 110 # Number of histogram bins \n",
    "\n",
    "density = False # True: Normallized plot || False: Non-normallized plot\n",
    "\n",
    "x_range = [x_min, x_max] # Histogram plot range\n",
    "\n",
    "x_label = 'SiPM Voltage (mV)' # label for the x axis\n",
    "\n",
    "y_label = 'Events' # label for the y axis\n",
    "\n",
    "\n",
    "''' CALCULATIONS '''\n",
    "\n",
    "SiPM_array = np.array(filePD.SiPM) # Numpy array of all SiPM values\n",
    "\n",
    "occurrence_number = len(SiPM_array[(SiPM_array >= x_min) & (SiPM_array <= x_max)]) # Get the number of occurrences within the plot range\n",
    "\n",
    "\n",
    "''' PLOTTING CODE '''\n",
    "\n",
    "plt.figure() # Begin figure setup\n",
    "\n",
    "histogramPlot = plt.hist(filePD.SiPM, bins = bin, range = x_range, density = True) # Calling the histogram matplotlib function and providing the spreadsheet column in use and the number of bins we will use\n",
    "\n",
    "plt.title('Histogram of SiPM voltage\\nPlotted Counts = %d || Bins = %i' % (occurrence_number, bin)) # Setting the title of the plot\n",
    "# plt.title('Histogram of SiPM Voltage') # Setting the title of the plot\n",
    "\n",
    "plt.xlim(x_range) # the graph's domain \n",
    "\n",
    "plt.xlabel(x_label) # x axis label\n",
    "\n",
    "plt.ylabel(y_label) # y axis label"
   ]
  },
  {
   "cell_type": "markdown",
   "metadata": {},
   "source": [
    "# Histogram of Occurrence Time"
   ]
  },
  {
   "cell_type": "code",
   "execution_count": 3,
   "metadata": {},
   "outputs": [
    {
     "data": {
      "text/plain": [
       "(0.0, 600.053)"
      ]
     },
     "execution_count": 3,
     "metadata": {},
     "output_type": "execute_result"
    },
    {
     "data": {
      "image/png": "[encoded data removed]",
      "text/plain": [
       "<Figure size 432x288 with 1 Axes>"
      ]
     },
     "metadata": {
      "needs_background": "light"
     },
     "output_type": "display_data"
    }
   ],
   "source": [
    "''' ADJUSTABLE VALUES '''\n",
    "\n",
    "x_min = 0 # Minimum range of the histogram\n",
    "\n",
    "x_max = filePD.ArdTime.array[-1] # Maximum range of the histogram\n",
    "\n",
    "bins = 15000 # Number of histogram bins\n",
    "\n",
    "density = False # True: Normallized plot || False: Non-normallized plot\n",
    "\n",
    "x_range = [x_min, x_max] # Histogram plot range\n",
    "\n",
    "x_label = 'Time (s)' # label for the x axis\n",
    "\n",
    "y_label = 'Occurrences' # label for the y axis\n",
    "\n",
    "\n",
    "''' CALCULATIONS '''\n",
    "\n",
    "ardtime_array = np.array(filePD.ArdTime) # Numpy array of entry time values\n",
    "\n",
    "occurrence_number = len(ardtime_array[(ardtime_array >= x_min) & (ardtime_array <= x_max)]) # Get the number of occurrences within the plot range\n",
    "\n",
    "\n",
    "''' PLOTTING CODE '''\n",
    "\n",
    "plt.figure()\n",
    "\n",
    "plt.hist(filePD.ArdTime, bins, range = x_range, density = density) # establish the histogram plot\n",
    "\n",
    "plt.title(\"Histogram of Occurrence Time\\nPlotted Counts = %i || Bins = %i\" % (occurrence_number, bins)) # Title of the plot\n",
    "\n",
    "plt.xlabel(\"Time (s)\") # x axis label\n",
    "\n",
    "plt.ylabel(\"Number of occurrence\") # y axis label\n",
    "\n",
    "plt.xlim(x_range) # the graph's domain"
   ]
  },
  {
   "cell_type": "markdown",
   "metadata": {},
   "source": [
    "# Occurrence's SiPM Voltage Plotted as a Function of the Recorded ADC Reading"
   ]
  },
  {
   "cell_type": "code",
   "execution_count": 4,
   "metadata": {},
   "outputs": [
    {
     "data": {
      "text/plain": [
       "Text(0.5, 0, 'ADC (Analog to Digital Converter)')"
      ]
     },
     "execution_count": 4,
     "metadata": {},
     "output_type": "execute_result"
    },
    {
     "data": {
      "image/png": "[encoded data removed]",
      "text/plain": [
       "<Figure size 432x288 with 1 Axes>"
      ]
     },
     "metadata": {
      "needs_background": "light"
     },
     "output_type": "display_data"
    }
   ],
   "source": [
    "''' PLOTTING CODE '''\n",
    "plt.figure() \n",
    "\n",
    "plt.plot(filePD.ADC, filePD.SiPM,  '.') # Plotting information\n",
    "\n",
    "plt.title(\"SiPM Voltage as a function of ADC Value\") # plot title\n",
    "\n",
    "plt.ylabel('SIPM Voltage') # y axis label\n",
    "plt.xlabel('ADC (Analog to Digital Converter)') # x axis label"
   ]
  },
  {
   "cell_type": "markdown",
   "metadata": {},
   "source": [
    "# Histogram Displaying the Deadtime Between Occurrences"
   ]
  },
  {
   "cell_type": "code",
   "execution_count": 5,
   "metadata": {},
   "outputs": [
    {
     "data": {
      "text/plain": [
       "Text(0, 0.5, 'Occurrences')"
      ]
     },
     "execution_count": 5,
     "metadata": {},
     "output_type": "execute_result"
    },
    {
     "data": {
      "image/png": "[encoded data removed]",
      "text/plain": [
       "<Figure size 432x288 with 1 Axes>"
      ]
     },
     "metadata": {
      "needs_background": "light"
     },
     "output_type": "display_data"
    }
   ],
   "source": [
    "''' ADJUSTABLE VARIABLES '''\n",
    "\n",
    "x_min = 0 # Minimum range of the histogram \n",
    "\n",
    "x_max = 6 # Maximum range of the histogram \n",
    "\n",
    "bins = 35 # Number of histogram bins \n",
    "\n",
    "density = False # True: Normallized plot || False: Non-normallized plot\n",
    "\n",
    "x_range = [x_min, x_max] # Histogram plot range\n",
    "\n",
    "x_label = \"Time between Occurrences (s)\" # label for the x axis\n",
    "\n",
    "y_label = 'Occurrences' # label for the y axis\n",
    "\n",
    "\n",
    "''' CALCULATIONS '''\n",
    "\n",
    "timeDelta_array = np.array([]) # creating an array to store the calculated time deltas\n",
    "\n",
    "time_initial = 0 # setting the initial time\n",
    "\n",
    "for i in filePD.ArdTime.array: # for each loop to go through the elements of filePD.ArdTime.array\n",
    "    \n",
    "    timeDelta = i - time_initial # finding the time delta between the initial time and the element of the ArdTime array\n",
    "\n",
    "    timeDelta_array = np.append(timeDelta_array, timeDelta) # Appending the time delta to the timeDelta_array array\n",
    "\n",
    "    time_initial = i # setting the new initial time to the previous \n",
    "\n",
    "occurrence_number = len(timeDelta_array[(timeDelta_array >= x_min) & (timeDelta_array <= x_max)]) # Get the number of occurrences within the plot range\n",
    "\n",
    "\n",
    "''' PLOTTING CODE '''\n",
    "\n",
    "plt.hist(timeDelta_array, bins= bins, range = x_range, density = density) # Histogram plot\n",
    "\n",
    "plt.title(\"Histogram of Time Between Occurrences\\nTotal Occurrences = %i || Bins = %i\" % (occurrence_number, bins)) # Setting the plot title\n",
    "\n",
    "plt.xlabel(x_label) # x axis label\n",
    "\n",
    "plt.ylabel(y_label) # y axis label\n",
    "\n"
   ]
  },
  {
   "cell_type": "markdown",
   "metadata": {},
   "source": [
    "# Rate Calculation and Uncertainty"
   ]
  },
  {
   "cell_type": "code",
   "execution_count": 6,
   "metadata": {},
   "outputs": [
    {
     "name": "stdout",
     "output_type": "stream",
     "text": [
      "The rate of detections was found to be 26.018245 +- 0.530799 counts/second\n"
     ]
    }
   ],
   "source": [
    "''' RATE CALCULATION '''\n",
    "\n",
    "slope, intercept = np.polyfit(filePD.ArdTime, filePD.Entry, 1) # Rate Calculation\n",
    "\n",
    "\n",
    "''' UNCERTIANTY CALCULATION '''\n",
    "\n",
    "N = np.array(filePD.Entry)[-1] # The number of counts made over the course of the run\n",
    "\n",
    "total_deadtime = np.array(filePD.Deadtime)[-1] # The total time that the arduino was incapable of making measurements\n",
    "\n",
    "total_time = np.array(filePD.ArdTime)[-1] # The total time of the run \n",
    "\n",
    "uncertainty = np.sqrt(N)/(total_time-total_deadtime) # uncertainty rate calculation  \n",
    "\n",
    "\n",
    "''' OUTPUT '''\n",
    "\n",
    "print('The rate of detections was found to be %f +- %f counts/second' % (slope, uncertainty)) # output statement\n"
   ]
  },
  {
   "cell_type": "markdown",
   "metadata": {},
   "source": [
    "\n",
    "# Average Rate Plotted as a Function of Time\n"
   ]
  },
  {
   "cell_type": "code",
   "execution_count": 7,
   "metadata": {},
   "outputs": [
    {
     "data": {
      "text/plain": [
       "Text(0, 0.5, 'Average Rate (counts/s)')"
      ]
     },
     "execution_count": 7,
     "metadata": {},
     "output_type": "execute_result"
    },
    {
     "data": {
      "image/png": "[encoded data removed]",
      "text/plain": [
       "<Figure size 432x288 with 1 Axes>"
      ]
     },
     "metadata": {
      "needs_background": "light"
     },
     "output_type": "display_data"
    }
   ],
   "source": [
    "''' ADJUSTABLE VALUES '''\n",
    "\n",
    "x_min = 0 # Minimum range of the plot\n",
    "\n",
    "x_max = 10000 # Maximum range of the plot\n",
    "\n",
    "x_range = [x_min, x_max] # Histogram plot range\n",
    "\n",
    "x_label = 'Time (s)' # label for the x axis\n",
    "\n",
    "y_label = 'Average Rate (counts/s)' # label for the y axis\n",
    "\n",
    "\n",
    "''' CALCULATIONS '''\n",
    "\n",
    "rate_avg_array = np.array([]) # Establish the list the obtained values will be stored within\n",
    "\n",
    "for i in range(len(filePD.ArdTime)): # For loop that will run for each of the total entries\n",
    "\n",
    "    rate_avg = filePD.Entry.array[i] / (filePD.ArdTime.array[i] - filePD.Deadtime.array[i]) # calculating the average rate at the time of each occurrence\n",
    "\n",
    "    rate_avg_array = np.append(rate_avg_array, rate_avg) # appending the new calculated average rate to the pre constructed array\n",
    "\n",
    "\n",
    "''' PLOTTING CODE '''\n",
    "\n",
    "plt.figure()\n",
    "\n",
    "plt.plot(filePD.ArdTime.array, rate_avg_array) # Establish the line plot\n",
    "\n",
    "plt.title(\"Average Rate as a function of Time\") # setting the title of the plot\n",
    "\n",
    "plt.xlabel(x_label) # x label\n",
    "\n",
    "plt.ylabel(y_label) # y label"
   ]
  },
  {
   "cell_type": "code",
   "execution_count": 13,
   "metadata": {},
   "outputs": [
    {
     "name": "stdout",
     "output_type": "stream",
     "text": [
      "         Entry    ArdTime  ADC   SiPM  Deadtime   Temp\n",
      "0            1      0.904  112  22.94     0.000  17.35\n",
      "2            3      1.307  152  26.78     0.034  17.35\n",
      "3            4      1.678  167  28.76     0.053  17.35\n",
      "4            5      2.525  134  24.82     0.072  17.35\n",
      "5            6      2.886   51  15.86     0.096  17.35\n",
      "...        ...        ...  ...    ...       ...    ...\n",
      "164088  164089  86427.289  399  87.30  3355.810  20.90\n",
      "164089  164090  86429.099  142  25.64  3355.830  20.90\n",
      "164090  164091  86429.269  145  25.96  3355.850  20.90\n",
      "164091  164092  86429.351  166  28.62  3355.870  20.90\n",
      "164092  164093  86429.549  188  32.01  3355.890  20.90\n",
      "\n",
      "[160781 rows x 6 columns]\n",
      "         Entry    ArdTime  ADC   SiPM  Deadtime   Temp\n",
      "0            1      0.904  112  22.94     0.000  17.35\n",
      "2            3      1.307  152  26.78     0.034  17.35\n",
      "3            4      1.678  167  28.76     0.053  17.35\n",
      "4            5      2.525  134  24.82     0.072  17.35\n",
      "5            6      2.886   51  15.86     0.096  17.35\n",
      "...        ...        ...  ...    ...       ...    ...\n",
      "164087  164088  86426.756   56  16.76  3355.790  20.90\n",
      "164089  164090  86429.099  142  25.64  3355.830  20.90\n",
      "164090  164091  86429.269  145  25.96  3355.850  20.90\n",
      "164091  164092  86429.351  166  28.62  3355.870  20.90\n",
      "164092  164093  86429.549  188  32.01  3355.890  20.90\n",
      "\n",
      "[92021 rows x 6 columns]\n"
     ]
    }
   ],
   "source": [
    "# print(filePD)\n",
    "# filePD = filePD.drop(np.where(np.array(filePD.ADC)>500)[0])\n",
    "# print(filePD)\n",
    "print(filePD)\n",
    "indexNames = filePD[(filePD['ADC'] > 200) ].index\n",
    "filePD.drop(indexNames, inplace=True)\n",
    "\n",
    "print(filePD)"
   ]
  },
  {
   "cell_type": "code",
   "execution_count": 12,
   "metadata": {},
   "outputs": [
    {
     "name": "stderr",
     "output_type": "stream",
     "text": [
      "Fitting 1 distributions: 100%|██████████| 1/1 [00:05<00:00,  5.32s/it]\n"
     ]
    },
    {
     "data": {
      "image/png": "[encoded data removed]",
      "text/plain": [
       "<Figure size 432x288 with 1 Axes>"
      ]
     },
     "metadata": {
      "needs_background": "light"
     },
     "output_type": "display_data"
    }
   ],
   "source": [
    "from fitter import Fitter\n",
    "\n",
    "f = Fitter(filePD.SiPM, distributions=['fatiguelife']) # Test 106 distributions on the SiPM dataframe\n",
    "\n",
    "f.fit() # fit the best ones to a plot\n",
    "f.summary() # Plots the best distributions\n",
    "\n",
    "f.get_best(method = 'sumsquare_error') # Find the best distribution out of the 106 distribuitions plotted\n",
    "\n",
    "params = f.fitted_param[\"fatiguelife\"] # get the parameters of the best distribution\n"
   ]
  },
  {
   "cell_type": "code",
   "execution_count": 26,
   "metadata": {},
   "outputs": [
    {
     "name": "stdout",
     "output_type": "stream",
     "text": [
      "126\n"
     ]
    },
    {
     "data": {
      "image/png": "[encoded data removed]",
      "text/plain": [
       "<Figure size 432x288 with 1 Axes>"
      ]
     },
     "metadata": {
      "needs_background": "light"
     },
     "output_type": "display_data"
    }
   ],
   "source": [
    "\n",
    "import numpy as np\n",
    "from scipy.optimize import curve_fit\n",
    "\n",
    "from scipy import stats, integrate\n",
    "\n",
    "import matplotlib.pyplot as plt\n",
    "from fitter import Fitter, get_common_distributions, get_distributions\n",
    "\n",
    "\n",
    "\n",
    "\n",
    "# d = 200\n",
    "\n",
    "\n",
    "\n",
    "histogramPlot = plt.hist(filePD.SiPM, bins = bin , density = True, label = 'Experimental Data') # Calling the histogram matplotlib function and providing the spreadsheet column in use and the number of bins we will use\n",
    "\n",
    "voltage = histogramPlot[1]\n",
    "print(len(voltage))\n",
    "idealDist = stats.fatiguelife.pdf(voltage, *params)\n",
    "\n",
    "plt.plot(voltage, idealDist, label = 'Ideal Distribution')\n",
    "\n",
    "plt.xlabel('SiPM Voltage (mV)')\n",
    "plt.ylabel('Events')\n",
    "plt.legend()\n",
    "plt.savefig('original.jpg')\n",
    "plt.xlim(x_range) # the graph's domain \n",
    "\n",
    "plt.show()\n",
    "\n",
    "\n",
    "plt.show()\n",
    "\n",
    "\n",
    "\n"
   ]
  },
  {
   "cell_type": "code",
   "execution_count": 30,
   "metadata": {},
   "outputs": [
    {
     "data": {
      "image/png": "[encoded data removed]",
      "text/plain": [
       "<Figure size 432x288 with 1 Axes>"
      ]
     },
     "metadata": {
      "needs_background": "light"
     },
     "output_type": "display_data"
    },
    {
     "data": {
      "text/plain": [
       "[<matplotlib.lines.Line2D at 0x24f59a16400>]"
      ]
     },
     "execution_count": 30,
     "metadata": {},
     "output_type": "execute_result"
    },
    {
     "data": {
      "image/png": "[encoded data removed]",
      "text/plain": [
       "<Figure size 432x288 with 1 Axes>"
      ]
     },
     "metadata": {
      "needs_background": "light"
     },
     "output_type": "display_data"
    }
   ],
   "source": [
    "import numpy as np\n",
    "from scipy.optimize import curve_fit\n",
    "\n",
    "from scipy import stats\n",
    "\n",
    "import matplotlib.pyplot as plt\n",
    "from fitter import Fitter, get_common_distributions, get_distributions\n",
    "\n",
    "\n",
    "\n",
    "d = len(voltage)\n",
    "\n",
    "# Array to be used for storing values\n",
    "voltageArr = np.array([]) \n",
    "\n",
    "# Initialize the loop variables\n",
    "i = 0 \n",
    "# N = 10000\n",
    "\n",
    "# while i < N:\n",
    "while i < 100000:\n",
    "\n",
    "    # Get a random voltage between ~17 and 200\n",
    "    randVoltage = np.random.uniform(voltage[0], d)\n",
    "\n",
    "    # Find the probability of getting this exact voltage using the fatiguelife PDF\n",
    "    prob = stats.fatiguelife.pdf(randVoltage, *params) \n",
    "\n",
    "    # Roll a value between 0 and 1 and check if the rolled value is below the proababily of finding the voltage\n",
    "    # if the rolled value is lower append the voltage to an array to be plotted later\n",
    "    if prob > np.random.rand(): \n",
    "        voltageArr = np.append(voltageArr, randVoltage)\n",
    "\n",
    "    i += 1 # update the loop variable \n",
    "\n",
    "plt.hist(voltageArr, bins = bin, density = True, label= 'Reproduced Data')\n",
    "plt.plot(voltage, idealDist, label = 'Ideal Distribution')\n",
    "plt.xlabel('SiPM Voltage (mV)')\n",
    "plt.ylabel('Events')\n",
    "plt.legend()\n",
    "# plt.xlim(x_range) # the graph's domain \n",
    "plt.savefig('wooooo.jpg')\n",
    "\n",
    "plt.show()\n",
    "\n",
    "\n",
    "        \n",
    "\n",
    "\n",
    "plt.hist(voltageArr, bins = bin, density = True)\n",
    "plt.plot(voltage, idealDist)\n",
    "\n",
    "\n"
   ]
  },
  {
   "cell_type": "code",
   "execution_count": null,
   "metadata": {},
   "outputs": [],
   "source": [
    "import numpy as np\n",
    "\n",
    "import matplotlib.pyplot as plt\n",
    "import matplotlib.animation as animation\n",
    "\n",
    "# Fixing random state for reproducibility\n",
    "np.random.seed(19680801)\n",
    "# Fixing bin edges\n",
    "HIST_BINS = np.linspace(-4, 4, 100)\n",
    "\n",
    "# histogram our data with numpy\n",
    "data = np.random.randn(1000)\n",
    "n, _ = np.histogram(data, HIST_BINS)\n",
    "\n",
    "\n",
    "def prepare_animation(bar_container):\n",
    "\n",
    "    def animate(frame_number):\n",
    "        # simulate new data coming in\n",
    "        data = np.random.randn(1000)\n",
    "        n, _ = np.histogram(data, HIST_BINS)\n",
    "        for count, rect in zip(n, bar_container.patches):\n",
    "            rect.set_height(count)\n",
    "        return bar_container.patches\n",
    "    return animate\n",
    "\n",
    "\n",
    "\n",
    "\n",
    "fig, ax = plt.subplots()\n",
    "_, _, bar_container = ax.hist(data, HIST_BINS, lw=1,\n",
    "                              ec=\"yellow\", fc=\"green\", alpha=0.5)\n",
    "ax.set_ylim(top=55)  # set safe limit to ensure that all data is visible.\n",
    "\n",
    "ani = animation.FuncAnimation(fig, prepare_animation(bar_container), 50,\n",
    "                              repeat=False, blit=True)\n",
    "plt.show()"
   ]
  },
  {
   "cell_type": "code",
   "execution_count": 25,
   "metadata": {},
   "outputs": [
    {
     "ename": "RuntimeError",
     "evalue": "Requested MovieWriter (ffmpeg) not available",
     "output_type": "error",
     "traceback": [
      "\u001b[1;31m---------------------------------------------------------------------------\u001b[0m",
      "\u001b[1;31mRuntimeError\u001b[0m                              Traceback (most recent call last)",
      "\u001b[1;32m<ipython-input-25-26dc3d417ee5>\u001b[0m in \u001b[0;36m<module>\u001b[1;34m\u001b[0m\n\u001b[0;32m     40\u001b[0m \u001b[1;33m\u001b[0m\u001b[0m\n\u001b[0;32m     41\u001b[0m \u001b[1;31m# FFwriter = FFMpegWriter()\u001b[0m\u001b[1;33m\u001b[0m\u001b[1;33m\u001b[0m\u001b[1;33m\u001b[0m\u001b[0m\n\u001b[1;32m---> 42\u001b[1;33m \u001b[0mvideo\u001b[0m \u001b[1;33m=\u001b[0m \u001b[0manim_created\u001b[0m\u001b[1;33m.\u001b[0m\u001b[0mto_html5_video\u001b[0m\u001b[1;33m(\u001b[0m\u001b[1;33m)\u001b[0m\u001b[1;33m\u001b[0m\u001b[1;33m\u001b[0m\u001b[0m\n\u001b[0m\u001b[0;32m     43\u001b[0m \u001b[0mhtml\u001b[0m \u001b[1;33m=\u001b[0m \u001b[0mdisplay\u001b[0m\u001b[1;33m.\u001b[0m\u001b[0mHTML\u001b[0m\u001b[1;33m(\u001b[0m\u001b[0mvideo\u001b[0m\u001b[1;33m)\u001b[0m\u001b[1;33m\u001b[0m\u001b[1;33m\u001b[0m\u001b[0m\n\u001b[0;32m     44\u001b[0m \u001b[0mdisplay\u001b[0m\u001b[1;33m.\u001b[0m\u001b[0mdisplay\u001b[0m\u001b[1;33m(\u001b[0m\u001b[0mhtml\u001b[0m\u001b[1;33m)\u001b[0m\u001b[1;33m\u001b[0m\u001b[1;33m\u001b[0m\u001b[0m\n",
      "\u001b[1;32mc:\\Users\\Trevo\\AppData\\Local\\Programs\\Python\\Python38\\lib\\site-packages\\matplotlib\\animation.py\u001b[0m in \u001b[0;36mto_html5_video\u001b[1;34m(self, embed_limit)\u001b[0m\n\u001b[0;32m   1346\u001b[0m                 \u001b[1;31m# We create a writer manually so that we can get the\u001b[0m\u001b[1;33m\u001b[0m\u001b[1;33m\u001b[0m\u001b[1;33m\u001b[0m\u001b[0m\n\u001b[0;32m   1347\u001b[0m                 \u001b[1;31m# appropriate size for the tag\u001b[0m\u001b[1;33m\u001b[0m\u001b[1;33m\u001b[0m\u001b[1;33m\u001b[0m\u001b[0m\n\u001b[1;32m-> 1348\u001b[1;33m                 \u001b[0mWriter\u001b[0m \u001b[1;33m=\u001b[0m \u001b[0mwriters\u001b[0m\u001b[1;33m[\u001b[0m\u001b[0mmpl\u001b[0m\u001b[1;33m.\u001b[0m\u001b[0mrcParams\u001b[0m\u001b[1;33m[\u001b[0m\u001b[1;34m'animation.writer'\u001b[0m\u001b[1;33m]\u001b[0m\u001b[1;33m]\u001b[0m\u001b[1;33m\u001b[0m\u001b[1;33m\u001b[0m\u001b[0m\n\u001b[0m\u001b[0;32m   1349\u001b[0m                 writer = Writer(codec='h264',\n\u001b[0;32m   1350\u001b[0m                                 \u001b[0mbitrate\u001b[0m\u001b[1;33m=\u001b[0m\u001b[0mmpl\u001b[0m\u001b[1;33m.\u001b[0m\u001b[0mrcParams\u001b[0m\u001b[1;33m[\u001b[0m\u001b[1;34m'animation.bitrate'\u001b[0m\u001b[1;33m]\u001b[0m\u001b[1;33m,\u001b[0m\u001b[1;33m\u001b[0m\u001b[1;33m\u001b[0m\u001b[0m\n",
      "\u001b[1;32mc:\\Users\\Trevo\\AppData\\Local\\Programs\\Python\\Python38\\lib\\site-packages\\matplotlib\\animation.py\u001b[0m in \u001b[0;36m__getitem__\u001b[1;34m(self, name)\u001b[0m\n\u001b[0;32m    149\u001b[0m         \u001b[1;32mif\u001b[0m \u001b[0mself\u001b[0m\u001b[1;33m.\u001b[0m\u001b[0mis_available\u001b[0m\u001b[1;33m(\u001b[0m\u001b[0mname\u001b[0m\u001b[1;33m)\u001b[0m\u001b[1;33m:\u001b[0m\u001b[1;33m\u001b[0m\u001b[1;33m\u001b[0m\u001b[0m\n\u001b[0;32m    150\u001b[0m             \u001b[1;32mreturn\u001b[0m \u001b[0mself\u001b[0m\u001b[1;33m.\u001b[0m\u001b[0m_registered\u001b[0m\u001b[1;33m[\u001b[0m\u001b[0mname\u001b[0m\u001b[1;33m]\u001b[0m\u001b[1;33m\u001b[0m\u001b[1;33m\u001b[0m\u001b[0m\n\u001b[1;32m--> 151\u001b[1;33m         \u001b[1;32mraise\u001b[0m \u001b[0mRuntimeError\u001b[0m\u001b[1;33m(\u001b[0m\u001b[1;34mf\"Requested MovieWriter ({name}) not available\"\u001b[0m\u001b[1;33m)\u001b[0m\u001b[1;33m\u001b[0m\u001b[1;33m\u001b[0m\u001b[0m\n\u001b[0m\u001b[0;32m    152\u001b[0m \u001b[1;33m\u001b[0m\u001b[0m\n\u001b[0;32m    153\u001b[0m \u001b[1;33m\u001b[0m\u001b[0m\n",
      "\u001b[1;31mRuntimeError\u001b[0m: Requested MovieWriter (ffmpeg) not available"
     ]
    },
    {
     "data": {
      "image/png": "[encoded data removed]",
      "text/plain": [
       "<Figure size 432x288 with 1 Axes>"
      ]
     },
     "metadata": {
      "needs_background": "light"
     },
     "output_type": "display_data"
    }
   ],
   "source": [
    "import numpy as np\n",
    "from matplotlib.animation import FuncAnimation, FFMpegWriter\n",
    "from IPython import display\n",
    "import matplotlib.pyplot as plt\n",
    "\n",
    "\n",
    "Figure = plt.figure()\n",
    " \n",
    "# creating a plot\n",
    "lines_plotted = plt.plot([])    \n",
    " \n",
    "# putting limits on x axis since\n",
    "# it is a trigonometry function\n",
    "# (0,2∏)\n",
    "line_plotted = lines_plotted[0]\n",
    " \n",
    "plt.xlim(0,2*np.pi) \n",
    " \n",
    "# putting limits on y since it is a\n",
    "# cosine function\n",
    "plt.ylim(-1.1,1.1)   \n",
    " \n",
    "# initialising x from 0 to 2∏\n",
    "x = np.linspace(0,2*np.pi,100)  \n",
    " \n",
    "#initially\n",
    "y = 0\n",
    "\n",
    "# function takes frame as an input\n",
    "def AnimationFunction(frame):\n",
    " \n",
    "    # setting y according to frame\n",
    "    # number and + x. It's logic\n",
    "    y = np.cos(x+2*np.pi*frame/100)\n",
    " \n",
    "    # line is set with new values of x and y\n",
    "    line_plotted.set_data((x, y))\n",
    "\n",
    "anim_created = FuncAnimation(Figure, AnimationFunction, frames=100, interval=25)\n",
    "\n",
    "# FFwriter = FFMpegWriter()\n",
    "video = anim_created.to_html5_video()\n",
    "html = display.HTML(video)\n",
    "display.display(html)\n",
    " \n",
    "# good practice to close the plt object.\n",
    "plt.close()\n",
    "\n",
    "\n"
   ]
  },
  {
   "cell_type": "code",
   "execution_count": 6,
   "metadata": {},
   "outputs": [
    {
     "data": {
      "image/png": "[encoded data removed]",
      "text/plain": [
       "<Figure size 432x288 with 1 Axes>"
      ]
     },
     "metadata": {
      "needs_background": "light"
     },
     "output_type": "display_data"
    }
   ],
   "source": [
    "import numpy as np\n",
    "import matplotlib.pyplot as plt\n",
    "import matplotlib.animation as animation\n",
    "\n",
    "n = 100\n",
    "number_of_frames = 10\n",
    "data = np.random.rand(n, number_of_frames)\n",
    "\n",
    "def update_hist(num, data):\n",
    "    plt.cla()\n",
    "    plt.hist(data[num])\n",
    "\n",
    "fig = plt.figure()\n",
    "hist = plt.hist(data[0])\n",
    "\n",
    "animation = animation.FuncAnimation(fig, update_hist, number_of_frames, fargs=(data, ) )\n",
    "\n",
    "plt.show()"
   ]
  },
  {
   "cell_type": "code",
   "execution_count": 20,
   "metadata": {},
   "outputs": [
    {
     "data": {
      "image/png": "[encoded data removed]",
      "text/plain": [
       "<Figure size 432x288 with 1 Axes>"
      ]
     },
     "metadata": {
      "needs_background": "light"
     },
     "output_type": "display_data"
    }
   ],
   "source": [
    "import numpy as np\n",
    "\n",
    "import matplotlib.pyplot as plt\n",
    "import matplotlib.animation as animation\n",
    "\n",
    "# Fixing random state for reproducibility\n",
    "np.random.seed(19680801)\n",
    "# Fixing bin edges\n",
    "HIST_BINS = np.linspace(-4, 4, 100)\n",
    "\n",
    "# histogram our data with numpy\n",
    "data = np.random.randn(1000)\n",
    "n, _ = np.histogram(data, HIST_BINS)\n",
    "\n",
    "def prepare_animation(bar_container):\n",
    "\n",
    "    def animate(frame_number):\n",
    "        # simulate new data coming in\n",
    "        data = np.random.randn(1000)\n",
    "        n, _ = np.histogram(data, HIST_BINS)\n",
    "        for count, rect in zip(n, bar_container.patches):\n",
    "            rect.set_height(count)\n",
    "        return bar_container.patches\n",
    "    return animate\n",
    "\n",
    "fig, ax = plt.subplots()\n",
    "_, _, bar_container = ax.hist(data, HIST_BINS, lw=1,\n",
    "                              ec=\"yellow\", fc=\"green\", alpha=0.5)\n",
    "ax.set_ylim(top=55)  # set safe limit to ensure that all data is visible.\n",
    "\n",
    "ani = animation.FuncAnimation(fig, prepare_animation(bar_container), 50, repeat=False, blit=True)\n",
    "\n",
    "plt.show()"
   ]
  }
 ],
 "metadata": {
  "kernelspec": {
   "display_name": "Python 3.8.6rc1 64-bit",
   "language": "python",
   "name": "python3"
  },
  "language_info": {
   "codemirror_mode": {
    "name": "ipython",
    "version": 3
   },
   "file_extension": ".py",
   "mimetype": "text/x-python",
   "name": "python",
   "nbconvert_exporter": "python",
   "pygments_lexer": "ipython3",
   "version": "3.8.6rc1"
  },
  "orig_nbformat": 4,
  "vscode": {
   "interpreter": {
    "hash": "2803caa692655d9aea1bfafcdb9a9e6a279f670a27eebd3ea30a518516d6aeee"
   }
  }
 },
 "nbformat": 4,
 "nbformat_minor": 2
}
